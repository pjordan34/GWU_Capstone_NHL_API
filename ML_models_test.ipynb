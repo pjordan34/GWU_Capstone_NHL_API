{
 "cells": [
  {
   "cell_type": "code",
   "execution_count": 172,
   "metadata": {},
   "outputs": [],
   "source": [
    "import numpy as np\n",
    "import pandas as pd\n",
    "from scipy.stats import randint\n",
    "from sklearn.model_selection import train_test_split,GridSearchCV, cross_val_score, RandomizedSearchCV\n",
    "from sklearn.metrics import classification_report, confusion_matrix, roc_curve, roc_auc_score\n",
    "from sklearn.linear_model import LogisticRegression\n",
    "from sklearn.pipeline import Pipeline\n",
    "import matplotlib.pyplot as plt\n",
    "from sklearn.tree import DecisionTreeClassifier\n",
    "from sklearn.svm import SVC\n",
    "from sklearn.preprocessing import StandardScaler\n",
    "from sklearn.neighbors import KNeighborsClassifier\n",
    "from sklearn.naive_bayes import BernoulliNB, GaussianNB"
   ]
  },
  {
   "cell_type": "code",
   "execution_count": 173,
   "metadata": {},
   "outputs": [
    {
     "name": "stdout",
     "output_type": "stream",
     "text": [
      "<class 'pandas.core.frame.DataFrame'>\n",
      "Int64Index: 2460 entries, 0 to 2459\n",
      "Data columns (total 59 columns):\n",
      "Unnamed: 0             2460 non-null int64\n",
      "Game_Id                2460 non-null int64\n",
      "Shot_Att               2460 non-null int64\n",
      "Misses                 2460 non-null int64\n",
      "SOG_for                2460 non-null int64\n",
      "Hits_for               2460 non-null int64\n",
      "Blocks_A               2460 non-null int64\n",
      "Blocks_for             2460 non-null int64\n",
      "Shot_Att_A             2460 non-null int64\n",
      "SOG_A                  2460 non-null int64\n",
      "Hits_A                 2460 non-null int64\n",
      "Goals_for              2460 non-null int64\n",
      "Goals_A                2460 non-null int64\n",
      "Saves                  2460 non-null int64\n",
      "Shot_Percentage_for    2460 non-null float64\n",
      "Fenwick_for            2460 non-null int64\n",
      "Corsi_for              2460 non-null int64\n",
      "Corsi_A                2460 non-null int64\n",
      "Fenwick_A              2460 non-null int64\n",
      "FSH%                   2460 non-null float64\n",
      "Miss%                  2460 non-null float64\n",
      "wshF                   2460 non-null float64\n",
      "wshA                   2460 non-null float64\n",
      "Goals_for%             2460 non-null float64\n",
      "Fenwick_for%           2460 non-null float64\n",
      "Corsi_for%             2460 non-null float64\n",
      "wshF%                  2460 non-null float64\n",
      "Sv%                    2460 non-null float64\n",
      "Win                    2460 non-null int64\n",
      "Season                 2460 non-null int64\n",
      "Ev_Team_ARI            2460 non-null uint8\n",
      "Ev_Team_BOS            2460 non-null uint8\n",
      "Ev_Team_BUF            2460 non-null uint8\n",
      "Ev_Team_CAR            2460 non-null uint8\n",
      "Ev_Team_CBJ            2460 non-null uint8\n",
      "Ev_Team_CGY            2460 non-null uint8\n",
      "Ev_Team_CHI            2460 non-null uint8\n",
      "Ev_Team_COL            2460 non-null uint8\n",
      "Ev_Team_DAL            2460 non-null uint8\n",
      "Ev_Team_DET            2460 non-null uint8\n",
      "Ev_Team_EDM            2460 non-null uint8\n",
      "Ev_Team_FLA            2460 non-null uint8\n",
      "Ev_Team_LAK            2460 non-null uint8\n",
      "Ev_Team_MIN            2460 non-null uint8\n",
      "Ev_Team_MTL            2460 non-null uint8\n",
      "Ev_Team_NJD            2460 non-null uint8\n",
      "Ev_Team_NSH            2460 non-null uint8\n",
      "Ev_Team_NYI            2460 non-null uint8\n",
      "Ev_Team_NYR            2460 non-null uint8\n",
      "Ev_Team_OTT            2460 non-null uint8\n",
      "Ev_Team_PHI            2460 non-null uint8\n",
      "Ev_Team_PIT            2460 non-null uint8\n",
      "Ev_Team_SJS            2460 non-null uint8\n",
      "Ev_Team_STL            2460 non-null uint8\n",
      "Ev_Team_TBL            2460 non-null uint8\n",
      "Ev_Team_TOR            2460 non-null uint8\n",
      "Ev_Team_VAN            2460 non-null uint8\n",
      "Ev_Team_WPG            2460 non-null uint8\n",
      "Ev_Team_WSH            2460 non-null uint8\n",
      "dtypes: float64(10), int64(20), uint8(29)\n",
      "memory usage: 665.4 KB\n"
     ]
    }
   ],
   "source": [
    "df = pd.read_csv('data/2014agg_regular_season_so.csv', dtype={'Goals_for':int})\n",
    "df.columns\n",
    "df.dropna(inplace=True)\n",
    "df = pd.get_dummies(df, drop_first=True)\n",
    "df.info()"
   ]
  },
  {
   "cell_type": "code",
   "execution_count": null,
   "metadata": {},
   "outputs": [],
   "source": []
  },
  {
   "cell_type": "code",
   "execution_count": 174,
   "metadata": {},
   "outputs": [],
   "source": [
    "y = df['Win'].values\n",
    "X = df.drop(['Win','Season','Goals_for','Goals_A','Goals_for%','Sv%','wshF%','wshF','wshA'], axis=1).values"
   ]
  },
  {
   "cell_type": "code",
   "execution_count": 175,
   "metadata": {},
   "outputs": [],
   "source": [
    "X_train, X_test, y_train, y_test = train_test_split(X, y, test_size = 0.3, random_state=42)"
   ]
  },
  {
   "cell_type": "code",
   "execution_count": 176,
   "metadata": {},
   "outputs": [
    {
     "name": "stdout",
     "output_type": "stream",
     "text": [
      "<class 'pandas.core.frame.DataFrame'>\n",
      "RangeIndex: 2451 entries, 0 to 2450\n",
      "Data columns (total 59 columns):\n",
      "Unnamed: 0             2451 non-null int64\n",
      "Game_Id                2451 non-null int64\n",
      "Shot_Att               2451 non-null int64\n",
      "Misses                 2451 non-null int64\n",
      "SOG_for                2451 non-null int64\n",
      "Hits_for               2451 non-null int64\n",
      "Blocks_A               2451 non-null int64\n",
      "Blocks_for             2451 non-null int64\n",
      "Shot_Att_A             2451 non-null int64\n",
      "SOG_A                  2451 non-null int64\n",
      "Hits_A                 2451 non-null int64\n",
      "Goals_for              2451 non-null int64\n",
      "Goals_A                2451 non-null int64\n",
      "Saves                  2451 non-null int64\n",
      "Shot_Percentage_for    2451 non-null float64\n",
      "Fenwick_for            2451 non-null int64\n",
      "Corsi_for              2451 non-null int64\n",
      "Corsi_A                2451 non-null int64\n",
      "Fenwick_A              2451 non-null int64\n",
      "FSH%                   2451 non-null float64\n",
      "Miss%                  2451 non-null float64\n",
      "wshF                   2451 non-null float64\n",
      "wshA                   2451 non-null float64\n",
      "Goals_for%             2451 non-null float64\n",
      "Fenwick_for%           2451 non-null float64\n",
      "Corsi_for%             2451 non-null float64\n",
      "wshF%                  2451 non-null float64\n",
      "Sv%                    2451 non-null float64\n",
      "Win                    2451 non-null int64\n",
      "Season                 2451 non-null int64\n",
      "Ev_Team_ARI            2451 non-null uint8\n",
      "Ev_Team_BOS            2451 non-null uint8\n",
      "Ev_Team_BUF            2451 non-null uint8\n",
      "Ev_Team_CAR            2451 non-null uint8\n",
      "Ev_Team_CBJ            2451 non-null uint8\n",
      "Ev_Team_CGY            2451 non-null uint8\n",
      "Ev_Team_CHI            2451 non-null uint8\n",
      "Ev_Team_COL            2451 non-null uint8\n",
      "Ev_Team_DAL            2451 non-null uint8\n",
      "Ev_Team_DET            2451 non-null uint8\n",
      "Ev_Team_EDM            2451 non-null uint8\n",
      "Ev_Team_FLA            2451 non-null uint8\n",
      "Ev_Team_LAK            2451 non-null uint8\n",
      "Ev_Team_MIN            2451 non-null uint8\n",
      "Ev_Team_MTL            2451 non-null uint8\n",
      "Ev_Team_NJD            2451 non-null uint8\n",
      "Ev_Team_NSH            2451 non-null uint8\n",
      "Ev_Team_NYI            2451 non-null uint8\n",
      "Ev_Team_NYR            2451 non-null uint8\n",
      "Ev_Team_OTT            2451 non-null uint8\n",
      "Ev_Team_PHI            2451 non-null uint8\n",
      "Ev_Team_PIT            2451 non-null uint8\n",
      "Ev_Team_SJS            2451 non-null uint8\n",
      "Ev_Team_STL            2451 non-null uint8\n",
      "Ev_Team_TBL            2451 non-null uint8\n",
      "Ev_Team_TOR            2451 non-null uint8\n",
      "Ev_Team_VAN            2451 non-null uint8\n",
      "Ev_Team_WPG            2451 non-null uint8\n",
      "Ev_Team_WSH            2451 non-null uint8\n",
      "dtypes: float64(10), int64(20), uint8(29)\n",
      "memory usage: 643.9 KB\n"
     ]
    }
   ],
   "source": [
    "df2015 = pd.read_csv('data/2015agg_regular_season_so.csv', dtype={'Misses':int,'SOG_for':int,'Hits_for':int,'Goals_for':int,'Fenwick_for':int})\n",
    "df2015.dropna(inplace=True)\n",
    "df2015 = df2015.set_index(['Ev_Team'])\n",
    "# get rid of the extra row\n",
    "df2015.drop(['#'], inplace=True)\n",
    "df2015 = df2015.reset_index()\n",
    "df2015 = pd.get_dummies(df2015, drop_first=True)\n",
    "df2015.info()\n",
    "y_2015 = df2015['Win'].values\n",
    "X_2015 = df2015.drop(['Win','Season','Goals_for','Goals_A','Goals_for%','Sv%','wshF%','wshF','wshA'], axis=1).values\n",
    "#X_2015train, X_2015test, y_2015train, y_2015test = train_test_split(X, y, test_size = 0.3, random_state=42)"
   ]
  },
  {
   "cell_type": "code",
   "execution_count": 177,
   "metadata": {},
   "outputs": [
    {
     "name": "stdout",
     "output_type": "stream",
     "text": [
      "<class 'pandas.core.frame.DataFrame'>\n",
      "Int64Index: 2460 entries, 0 to 2459\n",
      "Data columns (total 59 columns):\n",
      "Unnamed: 0             2460 non-null int64\n",
      "Game_Id                2460 non-null int64\n",
      "Shot_Att               2460 non-null int64\n",
      "Misses                 2460 non-null int64\n",
      "SOG_for                2460 non-null int64\n",
      "Hits_for               2460 non-null int64\n",
      "Blocks_A               2460 non-null int64\n",
      "Blocks_for             2460 non-null int64\n",
      "Shot_Att_A             2460 non-null int64\n",
      "SOG_A                  2460 non-null int64\n",
      "Hits_A                 2460 non-null int64\n",
      "Goals_for              2460 non-null int64\n",
      "Goals_A                2460 non-null int64\n",
      "Saves                  2460 non-null int64\n",
      "Shot_Percentage_for    2460 non-null float64\n",
      "Fenwick_for            2460 non-null int64\n",
      "Corsi_for              2460 non-null int64\n",
      "Corsi_A                2460 non-null int64\n",
      "Fenwick_A              2460 non-null int64\n",
      "FSH%                   2460 non-null float64\n",
      "Miss%                  2460 non-null float64\n",
      "wshF                   2460 non-null float64\n",
      "wshA                   2460 non-null float64\n",
      "Goals_for%             2460 non-null float64\n",
      "Fenwick_for%           2460 non-null float64\n",
      "Corsi_for%             2460 non-null float64\n",
      "wshF%                  2460 non-null float64\n",
      "Sv%                    2460 non-null float64\n",
      "Win                    2460 non-null int64\n",
      "Season                 2460 non-null int64\n",
      "Ev_Team_ARI            2460 non-null uint8\n",
      "Ev_Team_BOS            2460 non-null uint8\n",
      "Ev_Team_BUF            2460 non-null uint8\n",
      "Ev_Team_CAR            2460 non-null uint8\n",
      "Ev_Team_CBJ            2460 non-null uint8\n",
      "Ev_Team_CGY            2460 non-null uint8\n",
      "Ev_Team_CHI            2460 non-null uint8\n",
      "Ev_Team_COL            2460 non-null uint8\n",
      "Ev_Team_DAL            2460 non-null uint8\n",
      "Ev_Team_DET            2460 non-null uint8\n",
      "Ev_Team_EDM            2460 non-null uint8\n",
      "Ev_Team_FLA            2460 non-null uint8\n",
      "Ev_Team_LAK            2460 non-null uint8\n",
      "Ev_Team_MIN            2460 non-null uint8\n",
      "Ev_Team_MTL            2460 non-null uint8\n",
      "Ev_Team_NJD            2460 non-null uint8\n",
      "Ev_Team_NSH            2460 non-null uint8\n",
      "Ev_Team_NYI            2460 non-null uint8\n",
      "Ev_Team_NYR            2460 non-null uint8\n",
      "Ev_Team_OTT            2460 non-null uint8\n",
      "Ev_Team_PHI            2460 non-null uint8\n",
      "Ev_Team_PIT            2460 non-null uint8\n",
      "Ev_Team_SJS            2460 non-null uint8\n",
      "Ev_Team_STL            2460 non-null uint8\n",
      "Ev_Team_TBL            2460 non-null uint8\n",
      "Ev_Team_TOR            2460 non-null uint8\n",
      "Ev_Team_VAN            2460 non-null uint8\n",
      "Ev_Team_WPG            2460 non-null uint8\n",
      "Ev_Team_WSH            2460 non-null uint8\n",
      "dtypes: float64(10), int64(20), uint8(29)\n",
      "memory usage: 665.4 KB\n"
     ]
    }
   ],
   "source": [
    "df2016 = pd.read_csv('data/2016agg_regular_season_so.csv', dtype={'Goals_for':int})\n",
    "df2016.dropna(inplace=True)\n",
    "df2016 = pd.get_dummies(df2016, drop_first=True)\n",
    "df.info()\n",
    "y_2016 = df2016['Win'].values\n",
    "X_2016 = df2016.drop(['Win','Season','Goals_for','Goals_A','Goals_for%','Sv%','wshF%','wshF','wshA'], axis=1).values"
   ]
  },
  {
   "cell_type": "code",
   "execution_count": 178,
   "metadata": {},
   "outputs": [
    {
     "name": "stdout",
     "output_type": "stream",
     "text": [
      "<class 'pandas.core.frame.DataFrame'>\n",
      "Int64Index: 2460 entries, 0 to 2459\n",
      "Data columns (total 59 columns):\n",
      "Unnamed: 0             2460 non-null int64\n",
      "Game_Id                2460 non-null int64\n",
      "Shot_Att               2460 non-null int64\n",
      "Misses                 2460 non-null int64\n",
      "SOG_for                2460 non-null int64\n",
      "Hits_for               2460 non-null int64\n",
      "Blocks_A               2460 non-null int64\n",
      "Blocks_for             2460 non-null int64\n",
      "Shot_Att_A             2460 non-null int64\n",
      "SOG_A                  2460 non-null int64\n",
      "Hits_A                 2460 non-null int64\n",
      "Goals_for              2460 non-null int64\n",
      "Goals_A                2460 non-null int64\n",
      "Saves                  2460 non-null int64\n",
      "Shot_Percentage_for    2460 non-null float64\n",
      "Fenwick_for            2460 non-null int64\n",
      "Corsi_for              2460 non-null int64\n",
      "Corsi_A                2460 non-null int64\n",
      "Fenwick_A              2460 non-null int64\n",
      "FSH%                   2460 non-null float64\n",
      "Miss%                  2460 non-null float64\n",
      "wshF                   2460 non-null float64\n",
      "wshA                   2460 non-null float64\n",
      "Goals_for%             2460 non-null float64\n",
      "Fenwick_for%           2460 non-null float64\n",
      "Corsi_for%             2460 non-null float64\n",
      "wshF%                  2460 non-null float64\n",
      "Sv%                    2460 non-null float64\n",
      "Win                    2460 non-null int64\n",
      "Season                 2460 non-null int64\n",
      "Ev_Team_ARI            2460 non-null uint8\n",
      "Ev_Team_BOS            2460 non-null uint8\n",
      "Ev_Team_BUF            2460 non-null uint8\n",
      "Ev_Team_CAR            2460 non-null uint8\n",
      "Ev_Team_CBJ            2460 non-null uint8\n",
      "Ev_Team_CGY            2460 non-null uint8\n",
      "Ev_Team_CHI            2460 non-null uint8\n",
      "Ev_Team_COL            2460 non-null uint8\n",
      "Ev_Team_DAL            2460 non-null uint8\n",
      "Ev_Team_DET            2460 non-null uint8\n",
      "Ev_Team_EDM            2460 non-null uint8\n",
      "Ev_Team_FLA            2460 non-null uint8\n",
      "Ev_Team_LAK            2460 non-null uint8\n",
      "Ev_Team_MIN            2460 non-null uint8\n",
      "Ev_Team_MTL            2460 non-null uint8\n",
      "Ev_Team_NJD            2460 non-null uint8\n",
      "Ev_Team_NSH            2460 non-null uint8\n",
      "Ev_Team_NYI            2460 non-null uint8\n",
      "Ev_Team_NYR            2460 non-null uint8\n",
      "Ev_Team_OTT            2460 non-null uint8\n",
      "Ev_Team_PHI            2460 non-null uint8\n",
      "Ev_Team_PIT            2460 non-null uint8\n",
      "Ev_Team_SJS            2460 non-null uint8\n",
      "Ev_Team_STL            2460 non-null uint8\n",
      "Ev_Team_TBL            2460 non-null uint8\n",
      "Ev_Team_TOR            2460 non-null uint8\n",
      "Ev_Team_VAN            2460 non-null uint8\n",
      "Ev_Team_WPG            2460 non-null uint8\n",
      "Ev_Team_WSH            2460 non-null uint8\n",
      "dtypes: float64(10), int64(20), uint8(29)\n",
      "memory usage: 665.4 KB\n"
     ]
    }
   ],
   "source": [
    "df2017 = pd.read_csv('data/2017agg_regular_season_so.csv', dtype={'Misses':int,'Goals_for':int,'Fenwick_for':int})\n",
    "df2017.dropna(inplace=True)\n",
    "df2017 = pd.get_dummies(df2017, drop_first=True)\n",
    "df2017.info()\n",
    "y_2017 = df2016['Win'].values\n",
    "X_2017 = df2016.drop(['Win','Season','Goals_for','Goals_A','Goals_for%','Sv%','wshF%','wshF','wshA'], axis=1).values"
   ]
  },
  {
   "cell_type": "code",
   "execution_count": 179,
   "metadata": {},
   "outputs": [
    {
     "name": "stdout",
     "output_type": "stream",
     "text": [
      "<class 'pandas.core.frame.DataFrame'>\n",
      "Int64Index: 2542 entries, 0 to 2541\n",
      "Data columns (total 60 columns):\n",
      "Unnamed: 0             2542 non-null int64\n",
      "Game_Id                2542 non-null int64\n",
      "Shot_Att               2542 non-null int64\n",
      "Misses                 2542 non-null int64\n",
      "SOG_for                2542 non-null int64\n",
      "Hits_for               2542 non-null int64\n",
      "Blocks_A               2542 non-null int64\n",
      "Blocks_for             2542 non-null int64\n",
      "Shot_Att_A             2542 non-null int64\n",
      "SOG_A                  2542 non-null int64\n",
      "Hits_A                 2542 non-null int64\n",
      "Goals_for              2542 non-null int64\n",
      "Goals_A                2542 non-null int64\n",
      "Saves                  2542 non-null int64\n",
      "Shot_Percentage_for    2542 non-null float64\n",
      "Fenwick_for            2542 non-null int64\n",
      "Corsi_for              2542 non-null int64\n",
      "Corsi_A                2542 non-null int64\n",
      "Fenwick_A              2542 non-null int64\n",
      "FSH%                   2542 non-null float64\n",
      "Miss%                  2542 non-null float64\n",
      "wshF                   2542 non-null float64\n",
      "wshA                   2542 non-null float64\n",
      "Goals_for%             2542 non-null float64\n",
      "Fenwick_for%           2542 non-null float64\n",
      "Corsi_for%             2542 non-null float64\n",
      "wshF%                  2542 non-null float64\n",
      "Sv%                    2542 non-null float64\n",
      "Win                    2542 non-null int64\n",
      "Season                 2542 non-null int64\n",
      "Ev_Team_ARI            2542 non-null uint8\n",
      "Ev_Team_BOS            2542 non-null uint8\n",
      "Ev_Team_BUF            2542 non-null uint8\n",
      "Ev_Team_CAR            2542 non-null uint8\n",
      "Ev_Team_CBJ            2542 non-null uint8\n",
      "Ev_Team_CGY            2542 non-null uint8\n",
      "Ev_Team_CHI            2542 non-null uint8\n",
      "Ev_Team_COL            2542 non-null uint8\n",
      "Ev_Team_DAL            2542 non-null uint8\n",
      "Ev_Team_DET            2542 non-null uint8\n",
      "Ev_Team_EDM            2542 non-null uint8\n",
      "Ev_Team_FLA            2542 non-null uint8\n",
      "Ev_Team_LAK            2542 non-null uint8\n",
      "Ev_Team_MIN            2542 non-null uint8\n",
      "Ev_Team_MTL            2542 non-null uint8\n",
      "Ev_Team_NJD            2542 non-null uint8\n",
      "Ev_Team_NSH            2542 non-null uint8\n",
      "Ev_Team_NYI            2542 non-null uint8\n",
      "Ev_Team_NYR            2542 non-null uint8\n",
      "Ev_Team_OTT            2542 non-null uint8\n",
      "Ev_Team_PHI            2542 non-null uint8\n",
      "Ev_Team_PIT            2542 non-null uint8\n",
      "Ev_Team_SJS            2542 non-null uint8\n",
      "Ev_Team_STL            2542 non-null uint8\n",
      "Ev_Team_TBL            2542 non-null uint8\n",
      "Ev_Team_TOR            2542 non-null uint8\n",
      "Ev_Team_VAN            2542 non-null uint8\n",
      "Ev_Team_VGK            2542 non-null uint8\n",
      "Ev_Team_WPG            2542 non-null uint8\n",
      "Ev_Team_WSH            2542 non-null uint8\n",
      "dtypes: float64(10), int64(20), uint8(30)\n",
      "memory usage: 690.1 KB\n"
     ]
    }
   ],
   "source": [
    "df2018 = pd.read_csv('data/2018agg_regular_season_so.csv', dtype={'Goals_for':int})\n",
    "df2018.dropna(inplace=True)\n",
    "df2018 = pd.get_dummies(df2018, drop_first=True)\n",
    "df2018.info()\n",
    "y_2018 = df2018['Win'].values\n",
    "X_2018 = df2018.drop(['Win','Season','Goals_for','Goals_A','Goals_for%','Sv%','wshF%','wshF','wshA'], axis=1).values\n",
    "X_2018train, X_2018test, y_2018train, y_2018test = train_test_split(X_2018, y_2018, test_size = 0.3, random_state=42)"
   ]
  },
  {
   "cell_type": "code",
   "execution_count": 180,
   "metadata": {},
   "outputs": [
    {
     "name": "stdout",
     "output_type": "stream",
     "text": [
      "<class 'pandas.core.frame.DataFrame'>\n",
      "Int64Index: 762 entries, 0 to 761\n",
      "Data columns (total 60 columns):\n",
      "Unnamed: 0             762 non-null int64\n",
      "Game_Id                762 non-null int64\n",
      "Shot_Att               762 non-null int64\n",
      "Misses                 762 non-null int64\n",
      "SOG_for                762 non-null int64\n",
      "Hits_for               762 non-null int64\n",
      "Blocks_A               762 non-null int64\n",
      "Blocks_for             762 non-null int64\n",
      "Shot_Att_A             762 non-null int64\n",
      "SOG_A                  762 non-null int64\n",
      "Hits_A                 762 non-null int64\n",
      "Goals_for              762 non-null int64\n",
      "Goals_A                762 non-null int64\n",
      "Saves                  762 non-null int64\n",
      "Shot_Percentage_for    762 non-null float64\n",
      "Fenwick_for            762 non-null int64\n",
      "Corsi_for              762 non-null int64\n",
      "Corsi_A                762 non-null int64\n",
      "Fenwick_A              762 non-null int64\n",
      "FSH%                   762 non-null float64\n",
      "Miss%                  762 non-null float64\n",
      "wshF                   762 non-null float64\n",
      "wshA                   762 non-null float64\n",
      "Goals_for%             762 non-null float64\n",
      "Fenwick_for%           762 non-null float64\n",
      "Corsi_for%             762 non-null float64\n",
      "wshF%                  762 non-null float64\n",
      "Sv%                    762 non-null float64\n",
      "Win                    762 non-null int64\n",
      "Season                 762 non-null int64\n",
      "Ev_Team_ARI            762 non-null uint8\n",
      "Ev_Team_BOS            762 non-null uint8\n",
      "Ev_Team_BUF            762 non-null uint8\n",
      "Ev_Team_CAR            762 non-null uint8\n",
      "Ev_Team_CBJ            762 non-null uint8\n",
      "Ev_Team_CGY            762 non-null uint8\n",
      "Ev_Team_CHI            762 non-null uint8\n",
      "Ev_Team_COL            762 non-null uint8\n",
      "Ev_Team_DAL            762 non-null uint8\n",
      "Ev_Team_DET            762 non-null uint8\n",
      "Ev_Team_EDM            762 non-null uint8\n",
      "Ev_Team_FLA            762 non-null uint8\n",
      "Ev_Team_LAK            762 non-null uint8\n",
      "Ev_Team_MIN            762 non-null uint8\n",
      "Ev_Team_MTL            762 non-null uint8\n",
      "Ev_Team_NJD            762 non-null uint8\n",
      "Ev_Team_NSH            762 non-null uint8\n",
      "Ev_Team_NYI            762 non-null uint8\n",
      "Ev_Team_NYR            762 non-null uint8\n",
      "Ev_Team_OTT            762 non-null uint8\n",
      "Ev_Team_PHI            762 non-null uint8\n",
      "Ev_Team_PIT            762 non-null uint8\n",
      "Ev_Team_SJS            762 non-null uint8\n",
      "Ev_Team_STL            762 non-null uint8\n",
      "Ev_Team_TBL            762 non-null uint8\n",
      "Ev_Team_TOR            762 non-null uint8\n",
      "Ev_Team_VAN            762 non-null uint8\n",
      "Ev_Team_VGK            762 non-null uint8\n",
      "Ev_Team_WPG            762 non-null uint8\n",
      "Ev_Team_WSH            762 non-null uint8\n",
      "dtypes: float64(10), int64(20), uint8(30)\n",
      "memory usage: 206.9 KB\n"
     ]
    }
   ],
   "source": [
    "df2019 = pd.read_csv('data/2019agg_regular_season_so.csv', dtype={'Goals_for':int})\n",
    "df2019.dropna(inplace=True)\n",
    "df2019 = pd.get_dummies(df2019, drop_first=True)\n",
    "df2019.info()\n",
    "y_2019 = df2019['Win'].values\n",
    "X_2019 = df2019.drop(['Win','Season','Goals_for','Goals_A','Goals_for%','Sv%','wshF%','wshF','wshA'], axis=1).values"
   ]
  },
  {
   "cell_type": "code",
   "execution_count": 181,
   "metadata": {},
   "outputs": [],
   "source": [
    "c_space = np.logspace(-5, 8, 15)\n",
    "param_grid = {'C': c_space, 'penalty': ['l1', 'l2']}\n",
    "\n",
    "# Instantiate a logistic regression classifier: logreg\n",
    "logReg = LogisticRegression()\n",
    "\n",
    "# Instantiate the GridSearchCV object: logreg_cv\n",
    "logReg_cv2015 = GridSearchCV(logReg, param_grid, cv=5)\n"
   ]
  },
  {
   "cell_type": "code",
   "execution_count": 182,
   "metadata": {},
   "outputs": [
    {
     "name": "stdout",
     "output_type": "stream",
     "text": [
      "Tuned Logistic Regression Parameter: {'C': 31.622776601683793, 'penalty': 'l1'}\n",
      "Tuned Logistic Regression Accuracy: 0.9994192799070848\n"
     ]
    }
   ],
   "source": [
    "best_model = logReg_cv.fit(X_train, y_train)\n",
    "\n",
    "print(\"Tuned Logistic Regression Parameter: {}\".format(best_model.best_params_))\n",
    "print(\"Tuned Logistic Regression Accuracy: {}\".format(best_model.best_score_))"
   ]
  },
  {
   "cell_type": "code",
   "execution_count": 183,
   "metadata": {},
   "outputs": [
    {
     "name": "stdout",
     "output_type": "stream",
     "text": [
      "[[355   0]\n",
      " [  0 383]]\n",
      "             precision    recall  f1-score   support\n",
      "\n",
      "          0       1.00      1.00      1.00       355\n",
      "          1       1.00      1.00      1.00       383\n",
      "\n",
      "avg / total       1.00      1.00      1.00       738\n",
      "\n"
     ]
    },
    {
     "data": {
      "image/png": "[encoded data removed]",
      "text/plain": [
       "<Figure size 432x288 with 1 Axes>"
      ]
     },
     "metadata": {},
     "output_type": "display_data"
    },
    {
     "name": "stdout",
     "output_type": "stream",
     "text": [
      "AUC: 1.0\n"
     ]
    },
    {
     "data": {
      "text/plain": [
       "<Figure size 432x288 with 0 Axes>"
      ]
     },
     "metadata": {},
     "output_type": "display_data"
    }
   ],
   "source": [
    "y_pred = best_model.predict(X_test)\n",
    "\n",
    "# Compute and print the confusion matrix and classification report\n",
    "print(confusion_matrix(y_test, y_pred))\n",
    "print(classification_report(y_test, y_pred))\n",
    "\n",
    "y_pred_prob = best_model.predict_proba(X_test)[:,1]\n",
    "\n",
    "# Generate ROC curve values: fpr, tpr, thresholds\n",
    "fpr, tpr, thresholds = roc_curve(y_test, y_pred_prob)\n",
    "\n",
    "# Plot ROC curve\n",
    "plt.plot([0, 1], [0, 1], 'k--')\n",
    "plt.plot(fpr, tpr)\n",
    "plt.xlabel('False Positive Rate')\n",
    "plt.ylabel('True Positive Rate')\n",
    "plt.title('ROC Curve')\n",
    "#plt.savefig('data/ROC Curve 2014')\n",
    "plt.show()\n",
    "plt.clf()\n",
    "print(\"AUC: {}\".format(roc_auc_score(y_test, y_pred_prob)))"
   ]
  },
  {
   "cell_type": "code",
   "execution_count": 184,
   "metadata": {},
   "outputs": [
    {
     "name": "stdout",
     "output_type": "stream",
     "text": [
      "[[1119    4]\n",
      " [ 109 1219]]\n",
      "             precision    recall  f1-score   support\n",
      "\n",
      "          0       0.91      1.00      0.95      1123\n",
      "          1       1.00      0.92      0.96      1328\n",
      "\n",
      "avg / total       0.96      0.95      0.95      2451\n",
      "\n"
     ]
    },
    {
     "data": {
      "image/png": "[encoded data removed]",
      "text/plain": [
       "<Figure size 432x288 with 1 Axes>"
      ]
     },
     "metadata": {},
     "output_type": "display_data"
    },
    {
     "name": "stdout",
     "output_type": "stream",
     "text": [
      "AUC: 0.9988828868456909\n"
     ]
    },
    {
     "data": {
      "text/plain": [
       "<Figure size 432x288 with 0 Axes>"
      ]
     },
     "metadata": {},
     "output_type": "display_data"
    }
   ],
   "source": [
    "y_pred2015 = best_model.predict(X_2015)\n",
    "\n",
    "# Compute and print the confusion matrix and classification report\n",
    "print(confusion_matrix(y_2015, y_pred2015))\n",
    "print(classification_report(y_2015, y_pred2015))\n",
    "\n",
    "y_pred_prob2015 = best_model.predict_proba(X_2015)[:,1]\n",
    "\n",
    "# Generate ROC curve values: fpr, tpr, thresholds\n",
    "fpr, tpr, thresholds = roc_curve(y_2015, y_pred_prob2015)\n",
    "\n",
    "# Plot ROC curve\n",
    "plt.plot([0, 1], [0, 1], 'k--')\n",
    "plt.plot(fpr, tpr)\n",
    "plt.xlabel('False Positive Rate')\n",
    "plt.ylabel('True Positive Rate')\n",
    "plt.title('ROC Curve')\n",
    "#plt.savefig('data/ROC Curve 2015')\n",
    "plt.show()\n",
    "plt.clf()\n",
    "print(\"AUC: {}\".format(roc_auc_score(y_2015, y_pred_prob2015)))\n"
   ]
  },
  {
   "cell_type": "code",
   "execution_count": 185,
   "metadata": {},
   "outputs": [
    {
     "name": "stdout",
     "output_type": "stream",
     "text": [
      "[[1226    4]\n",
      " [   0 1230]]\n",
      "             precision    recall  f1-score   support\n",
      "\n",
      "          0       1.00      1.00      1.00      1230\n",
      "          1       1.00      1.00      1.00      1230\n",
      "\n",
      "avg / total       1.00      1.00      1.00      2460\n",
      "\n"
     ]
    },
    {
     "data": {
      "image/png": "[encoded data removed]",
      "text/plain": [
       "<Figure size 432x288 with 1 Axes>"
      ]
     },
     "metadata": {},
     "output_type": "display_data"
    },
    {
     "name": "stdout",
     "output_type": "stream",
     "text": [
      "AUC: 0.9994712142243374\n"
     ]
    },
    {
     "data": {
      "text/plain": [
       "<Figure size 432x288 with 0 Axes>"
      ]
     },
     "metadata": {},
     "output_type": "display_data"
    }
   ],
   "source": [
    "y_pred2016 = best_model.predict(X_2016)\n",
    "\n",
    "# Compute and print the confusion matrix and classification report\n",
    "print(confusion_matrix(y_2016, y_pred2016))\n",
    "print(classification_report(y_2016, y_pred2016))\n",
    "\n",
    "y_pred_prob2016 = best_model.predict_proba(X_2016)[:,1]\n",
    "\n",
    "# Generate ROC curve values: fpr, tpr, thresholds\n",
    "fpr, tpr, thresholds = roc_curve(y_2016, y_pred_prob2016)\n",
    "\n",
    "# Plot ROC curve\n",
    "plt.plot([0, 1], [0, 1], 'k--')\n",
    "plt.plot(fpr, tpr)\n",
    "plt.xlabel('False Positive Rate')\n",
    "plt.ylabel('True Positive Rate')\n",
    "plt.title('ROC Curve')\n",
    "#plt.savefig('data/ROC Curve 2016')\n",
    "plt.show()\n",
    "plt.clf()\n",
    "print(\"AUC: {}\".format(roc_auc_score(y_2016, y_pred_prob2016)))\n"
   ]
  },
  {
   "cell_type": "code",
   "execution_count": 186,
   "metadata": {},
   "outputs": [
    {
     "name": "stdout",
     "output_type": "stream",
     "text": [
      "[[1226    4]\n",
      " [   0 1230]]\n",
      "             precision    recall  f1-score   support\n",
      "\n",
      "          0       1.00      1.00      1.00      1230\n",
      "          1       1.00      1.00      1.00      1230\n",
      "\n",
      "avg / total       1.00      1.00      1.00      2460\n",
      "\n"
     ]
    },
    {
     "data": {
      "image/png": "[encoded data removed]",
      "text/plain": [
       "<Figure size 432x288 with 1 Axes>"
      ]
     },
     "metadata": {},
     "output_type": "display_data"
    },
    {
     "name": "stdout",
     "output_type": "stream",
     "text": [
      "AUC: 0.9994712142243374\n"
     ]
    },
    {
     "data": {
      "text/plain": [
       "<Figure size 432x288 with 0 Axes>"
      ]
     },
     "metadata": {},
     "output_type": "display_data"
    }
   ],
   "source": [
    "y_pred2017 = best_model.predict(X_2017)\n",
    "\n",
    "# Compute and print the confusion matrix and classification report\n",
    "print(confusion_matrix(y_2017, y_pred2017))\n",
    "print(classification_report(y_2017, y_pred2017))\n",
    "\n",
    "y_pred_prob2017 = best_model.predict_proba(X_2017)[:,1]\n",
    "\n",
    "# Generate ROC curve values: fpr, tpr, thresholds\n",
    "fpr, tpr, thresholds = roc_curve(y_2017, y_pred_prob2017)\n",
    "\n",
    "# Plot ROC curve\n",
    "plt.plot([0, 1], [0, 1], 'k--')\n",
    "plt.plot(fpr, tpr)\n",
    "plt.xlabel('False Positive Rate')\n",
    "plt.ylabel('True Positive Rate')\n",
    "plt.title('ROC Curve')\n",
    "#plt.savefig('data/ROC Curve 2017')\n",
    "plt.show()\n",
    "plt.clf()\n",
    "print(\"AUC: {}\".format(roc_auc_score(y_2017, y_pred_prob2017)))\n"
   ]
  },
  {
   "cell_type": "code",
   "execution_count": 187,
   "metadata": {},
   "outputs": [
    {
     "name": "stdout",
     "output_type": "stream",
     "text": [
      "Tuned Logistic Regression Parameter: {'C': 0.4393970560760795, 'penalty': 'l2'}\n",
      "Tuned Logistic Regression Accuracy: 0.9994378864530635\n",
      "[[394   0]\n",
      " [  0 369]]\n",
      "             precision    recall  f1-score   support\n",
      "\n",
      "          0       1.00      1.00      1.00       394\n",
      "          1       1.00      1.00      1.00       369\n",
      "\n",
      "avg / total       1.00      1.00      1.00       763\n",
      "\n"
     ]
    },
    {
     "data": {
      "image/png": "[encoded data removed]",
      "text/plain": [
       "<Figure size 432x288 with 1 Axes>"
      ]
     },
     "metadata": {},
     "output_type": "display_data"
    },
    {
     "name": "stdout",
     "output_type": "stream",
     "text": [
      "AUC: 1.0\n"
     ]
    },
    {
     "data": {
      "text/plain": [
       "<Figure size 432x288 with 0 Axes>"
      ]
     },
     "metadata": {},
     "output_type": "display_data"
    }
   ],
   "source": [
    "best_model2 = logReg_cv.fit(X_2018train, y_2018train)\n",
    "\n",
    "print(\"Tuned Logistic Regression Parameter: {}\".format(best_model2.best_params_))\n",
    "print(\"Tuned Logistic Regression Accuracy: {}\".format(best_model2.best_score_))\n",
    "\n",
    "y_pred2018 = best_model2.predict(X_2018test)\n",
    "\n",
    "# Compute and print the confusion matrix and classification report\n",
    "print(confusion_matrix(y_2018test, y_pred2018))\n",
    "print(classification_report(y_2018test, y_pred2018))\n",
    "\n",
    "y_pred_prob2018 = best_model2.predict_proba(X_2018test)[:,1]\n",
    "\n",
    "# Generate ROC curve values: fpr, tpr, thresholds\n",
    "fpr, tpr, thresholds = roc_curve(y_2018test, y_pred_prob2018)\n",
    "\n",
    "# Plot ROC curve\n",
    "plt.plot([0, 1], [0, 1], 'k--')\n",
    "plt.plot(fpr, tpr)\n",
    "plt.xlabel('False Positive Rate')\n",
    "plt.ylabel('True Positive Rate')\n",
    "plt.title('ROC Curve')\n",
    "plt.savefig('data/ROC Curve 2018')\n",
    "plt.show()\n",
    "plt.clf()\n",
    "print(\"AUC: {}\".format(roc_auc_score(y_2018test, y_pred_prob2018)))\n"
   ]
  },
  {
   "cell_type": "code",
   "execution_count": 190,
   "metadata": {},
   "outputs": [
    {
     "name": "stdout",
     "output_type": "stream",
     "text": [
      "[[380   1]\n",
      " [  1 380]]\n",
      "             precision    recall  f1-score   support\n",
      "\n",
      "          0       1.00      1.00      1.00       381\n",
      "          1       1.00      1.00      1.00       381\n",
      "\n",
      "avg / total       1.00      1.00      1.00       762\n",
      "\n"
     ]
    },
    {
     "data": {
      "image/png": "[encoded data removed]",
      "text/plain": [
       "<Figure size 432x288 with 1 Axes>"
      ]
     },
     "metadata": {},
     "output_type": "display_data"
    },
    {
     "name": "stdout",
     "output_type": "stream",
     "text": [
      "AUC: 0.999979333292\n"
     ]
    },
    {
     "data": {
      "text/plain": [
       "<Figure size 432x288 with 0 Axes>"
      ]
     },
     "metadata": {},
     "output_type": "display_data"
    }
   ],
   "source": [
    "y_pred2019 = best_model2.predict(X_2019)\n",
    "\n",
    "# Compute and print the confusion matrix and classification report\n",
    "print(confusion_matrix(y_2019, y_pred2019))\n",
    "print(classification_report(y_2019, y_pred2019))\n",
    "\n",
    "y_pred_prob2019 = best_model2.predict_proba(X_2019)[:,1]\n",
    "\n",
    "# Generate ROC curve values: fpr, tpr, thresholds\n",
    "fpr, tpr, thresholds = roc_curve(y_2019, y_pred_prob2019)\n",
    "\n",
    "# Plot ROC curve\n",
    "plt.plot([0, 1], [0, 1], 'k--')\n",
    "plt.plot(fpr, tpr)\n",
    "plt.xlabel('False Positive Rate')\n",
    "plt.ylabel('True Positive Rate')\n",
    "plt.title('ROC Curve')\n",
    "plt.savefig('data/ROC Curve 2019')\n",
    "plt.show()\n",
    "plt.clf()\n",
    "print(\"AUC: {}\".format(roc_auc_score(y_2019, y_pred_prob2019)))"
   ]
  },
  {
   "cell_type": "code",
   "execution_count": 84,
   "metadata": {},
   "outputs": [
    {
     "name": "stdout",
     "output_type": "stream",
     "text": [
      "Tuned Decision Tree Parameters: {'criterion': 'entropy', 'max_depth': None, 'max_features': 3, 'min_samples_leaf': 5}\n",
      "Best score is 0.7200929152148664\n"
     ]
    }
   ],
   "source": [
    "param_dist = {\"max_depth\": [3, None],\n",
    "              \"max_features\": randint(1, 9),\n",
    "              \"min_samples_leaf\": randint(1, 9),\n",
    "              \"criterion\": [\"gini\", \"entropy\"]}\n",
    "\n",
    "# Instantiate a Decision Tree classifier: tree\n",
    "tree = DecisionTreeClassifier()\n",
    "\n",
    "# Instantiate the RandomizedSearchCV object: tree_cv\n",
    "tree_cv = RandomizedSearchCV(tree, param_dist, cv=5)\n",
    "\n",
    "# Fit it to the data\n",
    "tree_cv.fit(X_train,y_train)\n",
    "\n",
    "# Print the tuned parameters and score\n",
    "print(\"Tuned Decision Tree Parameters: {}\".format(tree_cv.best_params_))\n",
    "print(\"Best score is {}\".format(tree_cv.best_score_))"
   ]
  },
  {
   "cell_type": "code",
   "execution_count": 85,
   "metadata": {},
   "outputs": [
    {
     "name": "stdout",
     "output_type": "stream",
     "text": [
      "             precision    recall  f1-score   support\n",
      "\n",
      "          0       0.48      0.99      0.64       355\n",
      "          1       0.00      0.00      0.00       383\n",
      "\n",
      "avg / total       0.23      0.48      0.31       738\n",
      "\n"
     ]
    }
   ],
   "source": [
    "clf = SVC()\n",
    "clf.fit(X_train, y_train)\n",
    "y_pred = clf.predict(X_test)\n",
    "\n",
    "# Compute metrics\n",
    "print(classification_report(y_test, y_pred))"
   ]
  },
  {
   "cell_type": "code",
   "execution_count": 86,
   "metadata": {},
   "outputs": [
    {
     "name": "stdout",
     "output_type": "stream",
     "text": [
      "Accuracy with Scaling: 0.6734417344173442\n",
      "Accuracy without Scaling: 0.518970189701897\n"
     ]
    }
   ],
   "source": [
    "steps = [('scaler', StandardScaler()),\n",
    "        ('knn', KNeighborsClassifier())]\n",
    "        \n",
    "# Create the pipeline: pipeline\n",
    "pipeline = Pipeline(steps)\n",
    "\n",
    "# Create train and test sets\n",
    "X_train, X_test, y_train, y_test = train_test_split(X, y, test_size=0.3, random_state=42)\n",
    "\n",
    "# Fit the pipeline to the training set: knn_scaled\n",
    "knn_scaled = pipeline.fit(X_train, y_train)\n",
    "\n",
    "# Instantiate and fit a k-NN classifier to the unscaled data\n",
    "knn_unscaled = KNeighborsClassifier().fit(X_train, y_train)\n",
    "\n",
    "# Compute and print metrics\n",
    "print('Accuracy with Scaling: {}'.format(knn_scaled.score(X_test,y_test)))\n",
    "print('Accuracy without Scaling: {}'.format(knn_unscaled.score(X_test,y_test)))"
   ]
  },
  {
   "cell_type": "code",
   "execution_count": 87,
   "metadata": {},
   "outputs": [
    {
     "name": "stdout",
     "output_type": "stream",
     "text": [
      "Accuracy: 0.9776422764227642\n",
      "             precision    recall  f1-score   support\n",
      "\n",
      "          0       0.97      0.98      0.98       240\n",
      "          1       0.98      0.97      0.98       252\n",
      "\n",
      "avg / total       0.98      0.98      0.98       492\n",
      "\n",
      "Tuned Model Parameters: {'SVM__C': 100, 'SVM__gamma': 0.01}\n"
     ]
    }
   ],
   "source": [
    "steps = [('scaler', StandardScaler()),\n",
    "         ('SVM', SVC())]\n",
    "\n",
    "pipeline = Pipeline(steps)\n",
    "\n",
    "# Specify the hyperparameter space\n",
    "parameters = {'SVM__C':[1, 10, 100],\n",
    "              'SVM__gamma':[0.1, 0.01]}\n",
    "\n",
    "# Create train and test sets\n",
    "X_train, X_test, y_train, y_test = train_test_split(X,y,test_size=0.2, random_state=42)\n",
    "\n",
    "# Instantiate the GridSearchCV object: cv\n",
    "cv = GridSearchCV(pipeline, parameters, cv=3)\n",
    "\n",
    "# Fit to the training set\n",
    "cv.fit(X_train,y_train)\n",
    "\n",
    "# Predict the labels of the test set: y_pred\n",
    "y_pred = cv.predict(X_test)\n",
    "\n",
    "# Compute and print metrics\n",
    "print(\"Accuracy: {}\".format(cv.score(X_test, y_test)))\n",
    "print(classification_report(y_test, y_pred))\n",
    "print(\"Tuned Model Parameters: {}\".format(cv.best_params_))"
   ]
  },
  {
   "cell_type": "code",
   "execution_count": 156,
   "metadata": {},
   "outputs": [
    {
     "name": "stdout",
     "output_type": "stream",
     "text": [
      "GaussianNB(priors=None)\n"
     ]
    }
   ],
   "source": [
    "bayes = GaussianNB()\n",
    "bayes.fit(X_train, y_train)\n",
    "print(bayes)"
   ]
  },
  {
   "cell_type": "code",
   "execution_count": 159,
   "metadata": {},
   "outputs": [
    {
     "name": "stdout",
     "output_type": "stream",
     "text": [
      "[[247 108]\n",
      " [134 249]]\n",
      "             precision    recall  f1-score   support\n",
      "\n",
      "          0       0.65      0.70      0.67       355\n",
      "          1       0.70      0.65      0.67       383\n",
      "\n",
      "avg / total       0.67      0.67      0.67       738\n",
      "\n"
     ]
    }
   ],
   "source": [
    "y_pred = bayes.predict(X_test)\n",
    "print(confusion_matrix(y_test, y_pred))\n",
    "print(classification_report(y_test, y_pred))"
   ]
  },
  {
   "cell_type": "code",
   "execution_count": 165,
   "metadata": {},
   "outputs": [
    {
     "name": "stdout",
     "output_type": "stream",
     "text": [
      "[[247 108]\n",
      " [134 249]]\n",
      "             precision    recall  f1-score   support\n",
      "\n",
      "          0       0.65      0.70      0.67       355\n",
      "          1       0.70      0.65      0.67       383\n",
      "\n",
      "avg / total       0.67      0.67      0.67       738\n",
      "\n"
     ]
    },
    {
     "ename": "ValueError",
     "evalue": "operands could not be broadcast together with shapes (762,51) (50,) ",
     "output_type": "error",
     "traceback": [
      "\u001b[0;31m---------------------------------------------------------------------------\u001b[0m",
      "\u001b[0;31mValueError\u001b[0m                                Traceback (most recent call last)",
      "\u001b[0;32m<ipython-input-165-ff0e75d2b9a7>\u001b[0m in \u001b[0;36m<module>\u001b[0;34m()\u001b[0m\n\u001b[1;32m      6\u001b[0m \u001b[0mprint\u001b[0m\u001b[0;34m(\u001b[0m\u001b[0mclassification_report\u001b[0m\u001b[0;34m(\u001b[0m\u001b[0my_2018test\u001b[0m\u001b[0;34m,\u001b[0m \u001b[0my_pred2018\u001b[0m\u001b[0;34m)\u001b[0m\u001b[0;34m)\u001b[0m\u001b[0;34m\u001b[0m\u001b[0m\n\u001b[1;32m      7\u001b[0m \u001b[0;34m\u001b[0m\u001b[0m\n\u001b[0;32m----> 8\u001b[0;31m \u001b[0my_pred2019\u001b[0m \u001b[0;34m=\u001b[0m \u001b[0mbayes2\u001b[0m\u001b[0;34m.\u001b[0m\u001b[0mpredict\u001b[0m\u001b[0;34m(\u001b[0m\u001b[0mX_2019\u001b[0m\u001b[0;34m)\u001b[0m\u001b[0;34m\u001b[0m\u001b[0m\n\u001b[0m\u001b[1;32m      9\u001b[0m \u001b[0mprint\u001b[0m\u001b[0;34m(\u001b[0m\u001b[0mconfusion_matrix\u001b[0m\u001b[0;34m(\u001b[0m\u001b[0my_2019\u001b[0m\u001b[0;34m,\u001b[0m \u001b[0my_pred2019\u001b[0m\u001b[0;34m)\u001b[0m\u001b[0;34m)\u001b[0m\u001b[0;34m\u001b[0m\u001b[0m\n\u001b[1;32m     10\u001b[0m \u001b[0mprint\u001b[0m\u001b[0;34m(\u001b[0m\u001b[0mclassification_report\u001b[0m\u001b[0;34m(\u001b[0m\u001b[0my_2019\u001b[0m\u001b[0;34m,\u001b[0m \u001b[0my_pred2019\u001b[0m\u001b[0;34m)\u001b[0m\u001b[0;34m)\u001b[0m\u001b[0;34m\u001b[0m\u001b[0m\n",
      "\u001b[0;32m/anaconda3/lib/python3.6/site-packages/sklearn/naive_bayes.py\u001b[0m in \u001b[0;36mpredict\u001b[0;34m(self, X)\u001b[0m\n\u001b[1;32m     64\u001b[0m             \u001b[0mPredicted\u001b[0m \u001b[0mtarget\u001b[0m \u001b[0mvalues\u001b[0m \u001b[0;32mfor\u001b[0m \u001b[0mX\u001b[0m\u001b[0;34m\u001b[0m\u001b[0m\n\u001b[1;32m     65\u001b[0m         \"\"\"\n\u001b[0;32m---> 66\u001b[0;31m         \u001b[0mjll\u001b[0m \u001b[0;34m=\u001b[0m \u001b[0mself\u001b[0m\u001b[0;34m.\u001b[0m\u001b[0m_joint_log_likelihood\u001b[0m\u001b[0;34m(\u001b[0m\u001b[0mX\u001b[0m\u001b[0;34m)\u001b[0m\u001b[0;34m\u001b[0m\u001b[0m\n\u001b[0m\u001b[1;32m     67\u001b[0m         \u001b[0;32mreturn\u001b[0m \u001b[0mself\u001b[0m\u001b[0;34m.\u001b[0m\u001b[0mclasses_\u001b[0m\u001b[0;34m[\u001b[0m\u001b[0mnp\u001b[0m\u001b[0;34m.\u001b[0m\u001b[0margmax\u001b[0m\u001b[0;34m(\u001b[0m\u001b[0mjll\u001b[0m\u001b[0;34m,\u001b[0m \u001b[0maxis\u001b[0m\u001b[0;34m=\u001b[0m\u001b[0;36m1\u001b[0m\u001b[0;34m)\u001b[0m\u001b[0;34m]\u001b[0m\u001b[0;34m\u001b[0m\u001b[0m\n\u001b[1;32m     68\u001b[0m \u001b[0;34m\u001b[0m\u001b[0m\n",
      "\u001b[0;32m/anaconda3/lib/python3.6/site-packages/sklearn/naive_bayes.py\u001b[0m in \u001b[0;36m_joint_log_likelihood\u001b[0;34m(self, X)\u001b[0m\n\u001b[1;32m    431\u001b[0m             \u001b[0mjointi\u001b[0m \u001b[0;34m=\u001b[0m \u001b[0mnp\u001b[0m\u001b[0;34m.\u001b[0m\u001b[0mlog\u001b[0m\u001b[0;34m(\u001b[0m\u001b[0mself\u001b[0m\u001b[0;34m.\u001b[0m\u001b[0mclass_prior_\u001b[0m\u001b[0;34m[\u001b[0m\u001b[0mi\u001b[0m\u001b[0;34m]\u001b[0m\u001b[0;34m)\u001b[0m\u001b[0;34m\u001b[0m\u001b[0m\n\u001b[1;32m    432\u001b[0m             \u001b[0mn_ij\u001b[0m \u001b[0;34m=\u001b[0m \u001b[0;34m-\u001b[0m \u001b[0;36m0.5\u001b[0m \u001b[0;34m*\u001b[0m \u001b[0mnp\u001b[0m\u001b[0;34m.\u001b[0m\u001b[0msum\u001b[0m\u001b[0;34m(\u001b[0m\u001b[0mnp\u001b[0m\u001b[0;34m.\u001b[0m\u001b[0mlog\u001b[0m\u001b[0;34m(\u001b[0m\u001b[0;36m2.\u001b[0m \u001b[0;34m*\u001b[0m \u001b[0mnp\u001b[0m\u001b[0;34m.\u001b[0m\u001b[0mpi\u001b[0m \u001b[0;34m*\u001b[0m \u001b[0mself\u001b[0m\u001b[0;34m.\u001b[0m\u001b[0msigma_\u001b[0m\u001b[0;34m[\u001b[0m\u001b[0mi\u001b[0m\u001b[0;34m,\u001b[0m \u001b[0;34m:\u001b[0m\u001b[0;34m]\u001b[0m\u001b[0;34m)\u001b[0m\u001b[0;34m)\u001b[0m\u001b[0;34m\u001b[0m\u001b[0m\n\u001b[0;32m--> 433\u001b[0;31m             n_ij -= 0.5 * np.sum(((X - self.theta_[i, :]) ** 2) /\n\u001b[0m\u001b[1;32m    434\u001b[0m                                  (self.sigma_[i, :]), 1)\n\u001b[1;32m    435\u001b[0m             \u001b[0mjoint_log_likelihood\u001b[0m\u001b[0;34m.\u001b[0m\u001b[0mappend\u001b[0m\u001b[0;34m(\u001b[0m\u001b[0mjointi\u001b[0m \u001b[0;34m+\u001b[0m \u001b[0mn_ij\u001b[0m\u001b[0;34m)\u001b[0m\u001b[0;34m\u001b[0m\u001b[0m\n",
      "\u001b[0;31mValueError\u001b[0m: operands could not be broadcast together with shapes (762,51) (50,) "
     ]
    }
   ],
   "source": [
    "bayes2 = GaussianNB()\n",
    "bayes2.fit(X_2018train, y_train)\n",
    "\n",
    "y_pred2018 = bayes2.predict(X_2018test)\n",
    "print(confusion_matrix(y_2018test, y_pred2018))\n",
    "print(classification_report(y_2018test, y_pred2018))\n",
    "\n",
    "y_pred2019 = bayes2.predict(X_2019)\n",
    "print(confusion_matrix(y_2019, y_pred2019))\n",
    "print(classification_report(y_2019, y_pred2019))"
   ]
  },
  {
   "cell_type": "code",
   "execution_count": null,
   "metadata": {},
   "outputs": [],
   "source": []
  }
 ],
 "metadata": {
  "kernelspec": {
   "display_name": "Python 3",
   "language": "python",
   "name": "python3"
  },
  "language_info": {
   "codemirror_mode": {
    "name": "ipython",
    "version": 3
   },
   "file_extension": ".py",
   "mimetype": "text/x-python",
   "name": "python",
   "nbconvert_exporter": "python",
   "pygments_lexer": "ipython3",
   "version": "3.6.4"
  }
 },
 "nbformat": 4,
 "nbformat_minor": 2
}
